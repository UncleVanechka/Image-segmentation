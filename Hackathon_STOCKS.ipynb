{
  "nbformat": 4,
  "nbformat_minor": 0,
  "metadata": {
    "colab": {
      "name": "Hackathon-STOCKS.ipynb",
      "provenance": [],
      "collapsed_sections": [],
      "mount_file_id": "1YidUrVoIfurQvWLb3F05EmV5J0ChiN9K",
      "authorship_tag": "ABX9TyO6J1Yr2RUzpr/PQnWjp1Q8"
    },
    "kernelspec": {
      "name": "python3",
      "display_name": "Python 3"
    },
    "language_info": {
      "name": "python"
    }
  },
  "cells": [
    {
      "cell_type": "code",
      "metadata": {
        "id": "cIAKZ-xZHz3b"
      },
      "source": [
        "import pandas as pd"
      ],
      "execution_count": 1,
      "outputs": []
    },
    {
      "cell_type": "markdown",
      "metadata": {
        "id": "3Ael366nKYjm"
      },
      "source": [
        "Сделать запрос по выборке по каждой акции посмотреть BidAskSpread"
      ]
    },
    {
      "cell_type": "markdown",
      "metadata": {
        "id": "upp_gEToKmce"
      },
      "source": [
        "![image.png](data:image/png;base64,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)"
      ]
    },
    {
      "cell_type": "markdown",
      "metadata": {
        "id": "Tywe-PlWK03B"
      },
      "source": [
        "Формула WAP может быть записана, как показано ниже, которая учитывает информацию о ценах и объемах на высшем уровне:"
      ]
    },
    {
      "cell_type": "markdown",
      "metadata": {
        "id": "lFJ8WpS1K2Zb"
      },
      "source": [
        "![image.png](data:image/png;base64,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)"
      ]
    },
    {
      "cell_type": "code",
      "metadata": {
        "colab": {
          "base_uri": "https://localhost:8080/",
          "height": 203
        },
        "id": "P7ZgKn_BIpdQ",
        "outputId": "3e7e8f6d-7e28-4c7e-eabe-4103f97cacbe"
      },
      "source": [
        "data_train = pd.read_csv('/content/drive/MyDrive/Hackathon-Strocks_1/train.csv')\n",
        "data_train.head()"
      ],
      "execution_count": 3,
      "outputs": [
        {
          "output_type": "execute_result",
          "data": {
            "text/html": [
              "<div>\n",
              "<style scoped>\n",
              "    .dataframe tbody tr th:only-of-type {\n",
              "        vertical-align: middle;\n",
              "    }\n",
              "\n",
              "    .dataframe tbody tr th {\n",
              "        vertical-align: top;\n",
              "    }\n",
              "\n",
              "    .dataframe thead th {\n",
              "        text-align: right;\n",
              "    }\n",
              "</style>\n",
              "<table border=\"1\" class=\"dataframe\">\n",
              "  <thead>\n",
              "    <tr style=\"text-align: right;\">\n",
              "      <th></th>\n",
              "      <th>stock_id</th>\n",
              "      <th>time_id</th>\n",
              "      <th>target</th>\n",
              "    </tr>\n",
              "  </thead>\n",
              "  <tbody>\n",
              "    <tr>\n",
              "      <th>0</th>\n",
              "      <td>0</td>\n",
              "      <td>5</td>\n",
              "      <td>0.004136</td>\n",
              "    </tr>\n",
              "    <tr>\n",
              "      <th>1</th>\n",
              "      <td>0</td>\n",
              "      <td>11</td>\n",
              "      <td>0.001445</td>\n",
              "    </tr>\n",
              "    <tr>\n",
              "      <th>2</th>\n",
              "      <td>0</td>\n",
              "      <td>16</td>\n",
              "      <td>0.002168</td>\n",
              "    </tr>\n",
              "    <tr>\n",
              "      <th>3</th>\n",
              "      <td>0</td>\n",
              "      <td>31</td>\n",
              "      <td>0.002195</td>\n",
              "    </tr>\n",
              "    <tr>\n",
              "      <th>4</th>\n",
              "      <td>0</td>\n",
              "      <td>62</td>\n",
              "      <td>0.001747</td>\n",
              "    </tr>\n",
              "  </tbody>\n",
              "</table>\n",
              "</div>"
            ],
            "text/plain": [
              "   stock_id  time_id    target\n",
              "0         0        5  0.004136\n",
              "1         0       11  0.001445\n",
              "2         0       16  0.002168\n",
              "3         0       31  0.002195\n",
              "4         0       62  0.001747"
            ]
          },
          "metadata": {
            "tags": []
          },
          "execution_count": 3
        }
      ]
    },
    {
      "cell_type": "code",
      "metadata": {
        "colab": {
          "base_uri": "https://localhost:8080/"
        },
        "id": "_X8OQXjIIuDw",
        "outputId": "aefaedf3-0d95-45e8-c9a7-337d6328c246"
      },
      "source": [
        "data_train.info()"
      ],
      "execution_count": 5,
      "outputs": [
        {
          "output_type": "stream",
          "text": [
            "<class 'pandas.core.frame.DataFrame'>\n",
            "RangeIndex: 428932 entries, 0 to 428931\n",
            "Data columns (total 3 columns):\n",
            " #   Column    Non-Null Count   Dtype  \n",
            "---  ------    --------------   -----  \n",
            " 0   stock_id  428932 non-null  int64  \n",
            " 1   time_id   428932 non-null  int64  \n",
            " 2   target    428932 non-null  float64\n",
            "dtypes: float64(1), int64(2)\n",
            "memory usage: 9.8 MB\n"
          ],
          "name": "stdout"
        }
      ]
    },
    {
      "cell_type": "code",
      "metadata": {
        "id": "qlAq8OONI1xu"
      },
      "source": [
        ""
      ],
      "execution_count": null,
      "outputs": []
    }
  ]
}